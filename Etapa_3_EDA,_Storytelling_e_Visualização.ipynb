{
  "nbformat": 4,
  "nbformat_minor": 0,
  "metadata": {
    "colab": {
      "name": "Etapa 3 - EDA, Storytelling e Visualização.ipynb",
      "provenance": [],
      "authorship_tag": "ABX9TyPDyHJ5esPaeHRJ9QMOtdbZ",
      "include_colab_link": true
    },
    "kernelspec": {
      "name": "python3",
      "display_name": "Python 3"
    },
    "language_info": {
      "name": "python"
    }
  },
  "cells": [
    {
      "cell_type": "markdown",
      "metadata": {
        "id": "view-in-github",
        "colab_type": "text"
      },
      "source": [
        "<a href=\"https://colab.research.google.com/github/viniciuswshibuta/DataTwitter-Eleitoral/blob/main/Etapa_3_EDA%2C_Storytelling_e_Visualiza%C3%A7%C3%A3o.ipynb\" target=\"_parent\"><img src=\"https://colab.research.google.com/assets/colab-badge.svg\" alt=\"Open In Colab\"/></a>"
      ]
    },
    {
      "cell_type": "markdown",
      "source": [
        "#Etapa 3 - EDA, Storytelling e Visualização"
      ],
      "metadata": {
        "id": "T3VBRpOuhyhE"
      }
    },
    {
      "cell_type": "code",
      "execution_count": null,
      "metadata": {
        "id": "rUQCSCqX5MJR"
      },
      "outputs": [],
      "source": [
        "import pandas as pd\n",
        "\n",
        "import re"
      ]
    },
    {
      "cell_type": "code",
      "source": [
        "dataframe_final_candidatos = pd.read_csv('dataframe_final_candidatos.csv')"
      ],
      "metadata": {
        "id": "mZ76AiW0iDJs"
      },
      "execution_count": null,
      "outputs": []
    },
    {
      "cell_type": "code",
      "source": [
        "dataframe_final_candidatos.head()"
      ],
      "metadata": {
        "colab": {
          "base_uri": "https://localhost:8080/",
          "height": 250
        },
        "id": "XDq0dMJciO7a",
        "outputId": "6431ba64-235e-41d1-f686-500602985408"
      },
      "execution_count": null,
      "outputs": [
        {
          "output_type": "execute_result",
          "data": {
            "text/plain": [
              "                   Data_Hora              IdTweet  \\\n",
              "0  2022-07-30 00:06:49+00:00  1553170209955086337   \n",
              "1  2022-07-30 00:06:49+00:00  1553170209216905217   \n",
              "2  2022-07-30 00:06:48+00:00  1553170206041804800   \n",
              "3  2022-07-30 00:06:48+00:00  1553170204930236417   \n",
              "4  2022-07-30 00:06:47+00:00  1553170202954792961   \n",
              "\n",
              "                                               Tweet Candidato  \n",
              "0  @caroldartora13 @LulaOficial São ruins de mate...      Lula  \n",
              "1  @ThiagoResiste É  LULA PRESIDENTE! https://t.c...      Lula  \n",
              "2  @PedroRonchi2 @FariaH22JB hahhahahah e pq nenh...      Lula  \n",
              "3  😂😂😂😂 #RenanVagabundo\\n\\nRenan Calheiros sofre ...      Lula  \n",
              "4  @LulaOficial @ricardostuckert Além de ladrão, ...      Lula  "
            ],
            "text/html": [
              "\n",
              "  <div id=\"df-0b3b9c69-6579-4da0-b490-c4812e944102\">\n",
              "    <div class=\"colab-df-container\">\n",
              "      <div>\n",
              "<style scoped>\n",
              "    .dataframe tbody tr th:only-of-type {\n",
              "        vertical-align: middle;\n",
              "    }\n",
              "\n",
              "    .dataframe tbody tr th {\n",
              "        vertical-align: top;\n",
              "    }\n",
              "\n",
              "    .dataframe thead th {\n",
              "        text-align: right;\n",
              "    }\n",
              "</style>\n",
              "<table border=\"1\" class=\"dataframe\">\n",
              "  <thead>\n",
              "    <tr style=\"text-align: right;\">\n",
              "      <th></th>\n",
              "      <th>Data_Hora</th>\n",
              "      <th>IdTweet</th>\n",
              "      <th>Tweet</th>\n",
              "      <th>Candidato</th>\n",
              "    </tr>\n",
              "  </thead>\n",
              "  <tbody>\n",
              "    <tr>\n",
              "      <th>0</th>\n",
              "      <td>2022-07-30 00:06:49+00:00</td>\n",
              "      <td>1553170209955086337</td>\n",
              "      <td>@caroldartora13 @LulaOficial São ruins de mate...</td>\n",
              "      <td>Lula</td>\n",
              "    </tr>\n",
              "    <tr>\n",
              "      <th>1</th>\n",
              "      <td>2022-07-30 00:06:49+00:00</td>\n",
              "      <td>1553170209216905217</td>\n",
              "      <td>@ThiagoResiste É  LULA PRESIDENTE! https://t.c...</td>\n",
              "      <td>Lula</td>\n",
              "    </tr>\n",
              "    <tr>\n",
              "      <th>2</th>\n",
              "      <td>2022-07-30 00:06:48+00:00</td>\n",
              "      <td>1553170206041804800</td>\n",
              "      <td>@PedroRonchi2 @FariaH22JB hahhahahah e pq nenh...</td>\n",
              "      <td>Lula</td>\n",
              "    </tr>\n",
              "    <tr>\n",
              "      <th>3</th>\n",
              "      <td>2022-07-30 00:06:48+00:00</td>\n",
              "      <td>1553170204930236417</td>\n",
              "      <td>😂😂😂😂 #RenanVagabundo\\n\\nRenan Calheiros sofre ...</td>\n",
              "      <td>Lula</td>\n",
              "    </tr>\n",
              "    <tr>\n",
              "      <th>4</th>\n",
              "      <td>2022-07-30 00:06:47+00:00</td>\n",
              "      <td>1553170202954792961</td>\n",
              "      <td>@LulaOficial @ricardostuckert Além de ladrão, ...</td>\n",
              "      <td>Lula</td>\n",
              "    </tr>\n",
              "  </tbody>\n",
              "</table>\n",
              "</div>\n",
              "      <button class=\"colab-df-convert\" onclick=\"convertToInteractive('df-0b3b9c69-6579-4da0-b490-c4812e944102')\"\n",
              "              title=\"Convert this dataframe to an interactive table.\"\n",
              "              style=\"display:none;\">\n",
              "        \n",
              "  <svg xmlns=\"http://www.w3.org/2000/svg\" height=\"24px\"viewBox=\"0 0 24 24\"\n",
              "       width=\"24px\">\n",
              "    <path d=\"M0 0h24v24H0V0z\" fill=\"none\"/>\n",
              "    <path d=\"M18.56 5.44l.94 2.06.94-2.06 2.06-.94-2.06-.94-.94-2.06-.94 2.06-2.06.94zm-11 1L8.5 8.5l.94-2.06 2.06-.94-2.06-.94L8.5 2.5l-.94 2.06-2.06.94zm10 10l.94 2.06.94-2.06 2.06-.94-2.06-.94-.94-2.06-.94 2.06-2.06.94z\"/><path d=\"M17.41 7.96l-1.37-1.37c-.4-.4-.92-.59-1.43-.59-.52 0-1.04.2-1.43.59L10.3 9.45l-7.72 7.72c-.78.78-.78 2.05 0 2.83L4 21.41c.39.39.9.59 1.41.59.51 0 1.02-.2 1.41-.59l7.78-7.78 2.81-2.81c.8-.78.8-2.07 0-2.86zM5.41 20L4 18.59l7.72-7.72 1.47 1.35L5.41 20z\"/>\n",
              "  </svg>\n",
              "      </button>\n",
              "      \n",
              "  <style>\n",
              "    .colab-df-container {\n",
              "      display:flex;\n",
              "      flex-wrap:wrap;\n",
              "      gap: 12px;\n",
              "    }\n",
              "\n",
              "    .colab-df-convert {\n",
              "      background-color: #E8F0FE;\n",
              "      border: none;\n",
              "      border-radius: 50%;\n",
              "      cursor: pointer;\n",
              "      display: none;\n",
              "      fill: #1967D2;\n",
              "      height: 32px;\n",
              "      padding: 0 0 0 0;\n",
              "      width: 32px;\n",
              "    }\n",
              "\n",
              "    .colab-df-convert:hover {\n",
              "      background-color: #E2EBFA;\n",
              "      box-shadow: 0px 1px 2px rgba(60, 64, 67, 0.3), 0px 1px 3px 1px rgba(60, 64, 67, 0.15);\n",
              "      fill: #174EA6;\n",
              "    }\n",
              "\n",
              "    [theme=dark] .colab-df-convert {\n",
              "      background-color: #3B4455;\n",
              "      fill: #D2E3FC;\n",
              "    }\n",
              "\n",
              "    [theme=dark] .colab-df-convert:hover {\n",
              "      background-color: #434B5C;\n",
              "      box-shadow: 0px 1px 3px 1px rgba(0, 0, 0, 0.15);\n",
              "      filter: drop-shadow(0px 1px 2px rgba(0, 0, 0, 0.3));\n",
              "      fill: #FFFFFF;\n",
              "    }\n",
              "  </style>\n",
              "\n",
              "      <script>\n",
              "        const buttonEl =\n",
              "          document.querySelector('#df-0b3b9c69-6579-4da0-b490-c4812e944102 button.colab-df-convert');\n",
              "        buttonEl.style.display =\n",
              "          google.colab.kernel.accessAllowed ? 'block' : 'none';\n",
              "\n",
              "        async function convertToInteractive(key) {\n",
              "          const element = document.querySelector('#df-0b3b9c69-6579-4da0-b490-c4812e944102');\n",
              "          const dataTable =\n",
              "            await google.colab.kernel.invokeFunction('convertToInteractive',\n",
              "                                                     [key], {});\n",
              "          if (!dataTable) return;\n",
              "\n",
              "          const docLinkHtml = 'Like what you see? Visit the ' +\n",
              "            '<a target=\"_blank\" href=https://colab.research.google.com/notebooks/data_table.ipynb>data table notebook</a>'\n",
              "            + ' to learn more about interactive tables.';\n",
              "          element.innerHTML = '';\n",
              "          dataTable['output_type'] = 'display_data';\n",
              "          await google.colab.output.renderOutput(dataTable, element);\n",
              "          const docLink = document.createElement('div');\n",
              "          docLink.innerHTML = docLinkHtml;\n",
              "          element.appendChild(docLink);\n",
              "        }\n",
              "      </script>\n",
              "    </div>\n",
              "  </div>\n",
              "  "
            ]
          },
          "metadata": {},
          "execution_count": 3
        }
      ]
    },
    {
      "cell_type": "code",
      "source": [
        "dataframe_final_candidatos.info()"
      ],
      "metadata": {
        "colab": {
          "base_uri": "https://localhost:8080/"
        },
        "id": "eS0FxnvZiSQ6",
        "outputId": "8273d5c9-f057-403e-d548-9e40902bfd48"
      },
      "execution_count": null,
      "outputs": [
        {
          "output_type": "stream",
          "name": "stdout",
          "text": [
            "<class 'pandas.core.frame.DataFrame'>\n",
            "RangeIndex: 204 entries, 0 to 203\n",
            "Data columns (total 4 columns):\n",
            " #   Column     Non-Null Count  Dtype \n",
            "---  ------     --------------  ----- \n",
            " 0   Data_Hora  204 non-null    object\n",
            " 1   IdTweet    204 non-null    int64 \n",
            " 2   Tweet      204 non-null    object\n",
            " 3   Candidato  204 non-null    object\n",
            "dtypes: int64(1), object(3)\n",
            "memory usage: 6.5+ KB\n"
          ]
        }
      ]
    },
    {
      "cell_type": "code",
      "source": [
        "dataframe_final_candidatos.isnull().sum()"
      ],
      "metadata": {
        "colab": {
          "base_uri": "https://localhost:8080/"
        },
        "id": "ouXs987FiTxJ",
        "outputId": "b179b4da-9149-4cfa-8200-d84a0e4a7279"
      },
      "execution_count": null,
      "outputs": [
        {
          "output_type": "execute_result",
          "data": {
            "text/plain": [
              "Data_Hora    0\n",
              "IdTweet      0\n",
              "Tweet        0\n",
              "Candidato    0\n",
              "dtype: int64"
            ]
          },
          "metadata": {},
          "execution_count": 6
        }
      ]
    },
    {
      "cell_type": "code",
      "source": [
        "dataframe_final_candidatos['Tweet_Limpo'] = dataframe_final_candidatos['Tweet']"
      ],
      "metadata": {
        "id": "f-b3eXAWihbB"
      },
      "execution_count": null,
      "outputs": []
    },
    {
      "cell_type": "code",
      "source": [
        "dataframe_final_candidatos.head()"
      ],
      "metadata": {
        "colab": {
          "base_uri": "https://localhost:8080/",
          "height": 354
        },
        "id": "JexHf23ei0Et",
        "outputId": "b7ec81da-13ff-4713-dd2f-3d7eae2f9352"
      },
      "execution_count": null,
      "outputs": [
        {
          "output_type": "execute_result",
          "data": {
            "text/plain": [
              "                   Data_Hora              IdTweet  \\\n",
              "0  2022-07-30 00:06:49+00:00  1553170209955086337   \n",
              "1  2022-07-30 00:06:49+00:00  1553170209216905217   \n",
              "2  2022-07-30 00:06:48+00:00  1553170206041804800   \n",
              "3  2022-07-30 00:06:48+00:00  1553170204930236417   \n",
              "4  2022-07-30 00:06:47+00:00  1553170202954792961   \n",
              "\n",
              "                                               Tweet Candidato  \\\n",
              "0  @caroldartora13 @LulaOficial São ruins de mate...      Lula   \n",
              "1  @ThiagoResiste É  LULA PRESIDENTE! https://t.c...      Lula   \n",
              "2  @PedroRonchi2 @FariaH22JB hahhahahah e pq nenh...      Lula   \n",
              "3  😂😂😂😂 #RenanVagabundo\\n\\nRenan Calheiros sofre ...      Lula   \n",
              "4  @LulaOficial @ricardostuckert Além de ladrão, ...      Lula   \n",
              "\n",
              "                                         Tweet_Limpo  \n",
              "0  @caroldartora13 @LulaOficial São ruins de mate...  \n",
              "1  @ThiagoResiste É  LULA PRESIDENTE! https://t.c...  \n",
              "2  @PedroRonchi2 @FariaH22JB hahhahahah e pq nenh...  \n",
              "3  😂😂😂😂 #RenanVagabundo\\n\\nRenan Calheiros sofre ...  \n",
              "4  @LulaOficial @ricardostuckert Além de ladrão, ...  "
            ],
            "text/html": [
              "\n",
              "  <div id=\"df-deb11d44-e507-4c6c-b342-36b405b95c23\">\n",
              "    <div class=\"colab-df-container\">\n",
              "      <div>\n",
              "<style scoped>\n",
              "    .dataframe tbody tr th:only-of-type {\n",
              "        vertical-align: middle;\n",
              "    }\n",
              "\n",
              "    .dataframe tbody tr th {\n",
              "        vertical-align: top;\n",
              "    }\n",
              "\n",
              "    .dataframe thead th {\n",
              "        text-align: right;\n",
              "    }\n",
              "</style>\n",
              "<table border=\"1\" class=\"dataframe\">\n",
              "  <thead>\n",
              "    <tr style=\"text-align: right;\">\n",
              "      <th></th>\n",
              "      <th>Data_Hora</th>\n",
              "      <th>IdTweet</th>\n",
              "      <th>Tweet</th>\n",
              "      <th>Candidato</th>\n",
              "      <th>Tweet_Limpo</th>\n",
              "    </tr>\n",
              "  </thead>\n",
              "  <tbody>\n",
              "    <tr>\n",
              "      <th>0</th>\n",
              "      <td>2022-07-30 00:06:49+00:00</td>\n",
              "      <td>1553170209955086337</td>\n",
              "      <td>@caroldartora13 @LulaOficial São ruins de mate...</td>\n",
              "      <td>Lula</td>\n",
              "      <td>@caroldartora13 @LulaOficial São ruins de mate...</td>\n",
              "    </tr>\n",
              "    <tr>\n",
              "      <th>1</th>\n",
              "      <td>2022-07-30 00:06:49+00:00</td>\n",
              "      <td>1553170209216905217</td>\n",
              "      <td>@ThiagoResiste É  LULA PRESIDENTE! https://t.c...</td>\n",
              "      <td>Lula</td>\n",
              "      <td>@ThiagoResiste É  LULA PRESIDENTE! https://t.c...</td>\n",
              "    </tr>\n",
              "    <tr>\n",
              "      <th>2</th>\n",
              "      <td>2022-07-30 00:06:48+00:00</td>\n",
              "      <td>1553170206041804800</td>\n",
              "      <td>@PedroRonchi2 @FariaH22JB hahhahahah e pq nenh...</td>\n",
              "      <td>Lula</td>\n",
              "      <td>@PedroRonchi2 @FariaH22JB hahhahahah e pq nenh...</td>\n",
              "    </tr>\n",
              "    <tr>\n",
              "      <th>3</th>\n",
              "      <td>2022-07-30 00:06:48+00:00</td>\n",
              "      <td>1553170204930236417</td>\n",
              "      <td>😂😂😂😂 #RenanVagabundo\\n\\nRenan Calheiros sofre ...</td>\n",
              "      <td>Lula</td>\n",
              "      <td>😂😂😂😂 #RenanVagabundo\\n\\nRenan Calheiros sofre ...</td>\n",
              "    </tr>\n",
              "    <tr>\n",
              "      <th>4</th>\n",
              "      <td>2022-07-30 00:06:47+00:00</td>\n",
              "      <td>1553170202954792961</td>\n",
              "      <td>@LulaOficial @ricardostuckert Além de ladrão, ...</td>\n",
              "      <td>Lula</td>\n",
              "      <td>@LulaOficial @ricardostuckert Além de ladrão, ...</td>\n",
              "    </tr>\n",
              "  </tbody>\n",
              "</table>\n",
              "</div>\n",
              "      <button class=\"colab-df-convert\" onclick=\"convertToInteractive('df-deb11d44-e507-4c6c-b342-36b405b95c23')\"\n",
              "              title=\"Convert this dataframe to an interactive table.\"\n",
              "              style=\"display:none;\">\n",
              "        \n",
              "  <svg xmlns=\"http://www.w3.org/2000/svg\" height=\"24px\"viewBox=\"0 0 24 24\"\n",
              "       width=\"24px\">\n",
              "    <path d=\"M0 0h24v24H0V0z\" fill=\"none\"/>\n",
              "    <path d=\"M18.56 5.44l.94 2.06.94-2.06 2.06-.94-2.06-.94-.94-2.06-.94 2.06-2.06.94zm-11 1L8.5 8.5l.94-2.06 2.06-.94-2.06-.94L8.5 2.5l-.94 2.06-2.06.94zm10 10l.94 2.06.94-2.06 2.06-.94-2.06-.94-.94-2.06-.94 2.06-2.06.94z\"/><path d=\"M17.41 7.96l-1.37-1.37c-.4-.4-.92-.59-1.43-.59-.52 0-1.04.2-1.43.59L10.3 9.45l-7.72 7.72c-.78.78-.78 2.05 0 2.83L4 21.41c.39.39.9.59 1.41.59.51 0 1.02-.2 1.41-.59l7.78-7.78 2.81-2.81c.8-.78.8-2.07 0-2.86zM5.41 20L4 18.59l7.72-7.72 1.47 1.35L5.41 20z\"/>\n",
              "  </svg>\n",
              "      </button>\n",
              "      \n",
              "  <style>\n",
              "    .colab-df-container {\n",
              "      display:flex;\n",
              "      flex-wrap:wrap;\n",
              "      gap: 12px;\n",
              "    }\n",
              "\n",
              "    .colab-df-convert {\n",
              "      background-color: #E8F0FE;\n",
              "      border: none;\n",
              "      border-radius: 50%;\n",
              "      cursor: pointer;\n",
              "      display: none;\n",
              "      fill: #1967D2;\n",
              "      height: 32px;\n",
              "      padding: 0 0 0 0;\n",
              "      width: 32px;\n",
              "    }\n",
              "\n",
              "    .colab-df-convert:hover {\n",
              "      background-color: #E2EBFA;\n",
              "      box-shadow: 0px 1px 2px rgba(60, 64, 67, 0.3), 0px 1px 3px 1px rgba(60, 64, 67, 0.15);\n",
              "      fill: #174EA6;\n",
              "    }\n",
              "\n",
              "    [theme=dark] .colab-df-convert {\n",
              "      background-color: #3B4455;\n",
              "      fill: #D2E3FC;\n",
              "    }\n",
              "\n",
              "    [theme=dark] .colab-df-convert:hover {\n",
              "      background-color: #434B5C;\n",
              "      box-shadow: 0px 1px 3px 1px rgba(0, 0, 0, 0.15);\n",
              "      filter: drop-shadow(0px 1px 2px rgba(0, 0, 0, 0.3));\n",
              "      fill: #FFFFFF;\n",
              "    }\n",
              "  </style>\n",
              "\n",
              "      <script>\n",
              "        const buttonEl =\n",
              "          document.querySelector('#df-deb11d44-e507-4c6c-b342-36b405b95c23 button.colab-df-convert');\n",
              "        buttonEl.style.display =\n",
              "          google.colab.kernel.accessAllowed ? 'block' : 'none';\n",
              "\n",
              "        async function convertToInteractive(key) {\n",
              "          const element = document.querySelector('#df-deb11d44-e507-4c6c-b342-36b405b95c23');\n",
              "          const dataTable =\n",
              "            await google.colab.kernel.invokeFunction('convertToInteractive',\n",
              "                                                     [key], {});\n",
              "          if (!dataTable) return;\n",
              "\n",
              "          const docLinkHtml = 'Like what you see? Visit the ' +\n",
              "            '<a target=\"_blank\" href=https://colab.research.google.com/notebooks/data_table.ipynb>data table notebook</a>'\n",
              "            + ' to learn more about interactive tables.';\n",
              "          element.innerHTML = '';\n",
              "          dataTable['output_type'] = 'display_data';\n",
              "          await google.colab.output.renderOutput(dataTable, element);\n",
              "          const docLink = document.createElement('div');\n",
              "          docLink.innerHTML = docLinkHtml;\n",
              "          element.appendChild(docLink);\n",
              "        }\n",
              "      </script>\n",
              "    </div>\n",
              "  </div>\n",
              "  "
            ]
          },
          "metadata": {},
          "execution_count": 8
        }
      ]
    },
    {
      "cell_type": "code",
      "source": [
        "def limpeza_do_texto(tweet):\n",
        "  tweet = tweet.lower()\n",
        "  return tweet"
      ],
      "metadata": {
        "id": "57LDfzoSi1SX"
      },
      "execution_count": null,
      "outputs": []
    },
    {
      "cell_type": "code",
      "source": [
        "dataframe_final_candidatos['Tweet_Limpo'] = dataframe_final_candidatos['Tweet'].apply(lambda i:limpeza_do_texto(i))"
      ],
      "metadata": {
        "id": "H_yOtpTojPut"
      },
      "execution_count": null,
      "outputs": []
    },
    {
      "cell_type": "code",
      "source": [
        "dataframe_final_candidatos.head()"
      ],
      "metadata": {
        "colab": {
          "base_uri": "https://localhost:8080/",
          "height": 354
        },
        "id": "Dvs-Gvsyj3_Q",
        "outputId": "0773125b-9e81-4ffb-de21-ba51421da069"
      },
      "execution_count": null,
      "outputs": [
        {
          "output_type": "execute_result",
          "data": {
            "text/plain": [
              "                   Data_Hora              IdTweet  \\\n",
              "0  2022-07-30 00:06:49+00:00  1553170209955086337   \n",
              "1  2022-07-30 00:06:49+00:00  1553170209216905217   \n",
              "2  2022-07-30 00:06:48+00:00  1553170206041804800   \n",
              "3  2022-07-30 00:06:48+00:00  1553170204930236417   \n",
              "4  2022-07-30 00:06:47+00:00  1553170202954792961   \n",
              "\n",
              "                                               Tweet Candidato  \\\n",
              "0  @caroldartora13 @LulaOficial São ruins de mate...      Lula   \n",
              "1  @ThiagoResiste É  LULA PRESIDENTE! https://t.c...      Lula   \n",
              "2  @PedroRonchi2 @FariaH22JB hahhahahah e pq nenh...      Lula   \n",
              "3  😂😂😂😂 #RenanVagabundo\\n\\nRenan Calheiros sofre ...      Lula   \n",
              "4  @LulaOficial @ricardostuckert Além de ladrão, ...      Lula   \n",
              "\n",
              "                                         Tweet_Limpo  \n",
              "0  @caroldartora13 @lulaoficial são ruins de mate...  \n",
              "1  @thiagoresiste é  lula presidente! https://t.c...  \n",
              "2  @pedroronchi2 @fariah22jb hahhahahah e pq nenh...  \n",
              "3  😂😂😂😂 #renanvagabundo\\n\\nrenan calheiros sofre ...  \n",
              "4  @lulaoficial @ricardostuckert além de ladrão, ...  "
            ],
            "text/html": [
              "\n",
              "  <div id=\"df-6abde13d-d977-4e2b-9b0e-e9c898aae2bd\">\n",
              "    <div class=\"colab-df-container\">\n",
              "      <div>\n",
              "<style scoped>\n",
              "    .dataframe tbody tr th:only-of-type {\n",
              "        vertical-align: middle;\n",
              "    }\n",
              "\n",
              "    .dataframe tbody tr th {\n",
              "        vertical-align: top;\n",
              "    }\n",
              "\n",
              "    .dataframe thead th {\n",
              "        text-align: right;\n",
              "    }\n",
              "</style>\n",
              "<table border=\"1\" class=\"dataframe\">\n",
              "  <thead>\n",
              "    <tr style=\"text-align: right;\">\n",
              "      <th></th>\n",
              "      <th>Data_Hora</th>\n",
              "      <th>IdTweet</th>\n",
              "      <th>Tweet</th>\n",
              "      <th>Candidato</th>\n",
              "      <th>Tweet_Limpo</th>\n",
              "    </tr>\n",
              "  </thead>\n",
              "  <tbody>\n",
              "    <tr>\n",
              "      <th>0</th>\n",
              "      <td>2022-07-30 00:06:49+00:00</td>\n",
              "      <td>1553170209955086337</td>\n",
              "      <td>@caroldartora13 @LulaOficial São ruins de mate...</td>\n",
              "      <td>Lula</td>\n",
              "      <td>@caroldartora13 @lulaoficial são ruins de mate...</td>\n",
              "    </tr>\n",
              "    <tr>\n",
              "      <th>1</th>\n",
              "      <td>2022-07-30 00:06:49+00:00</td>\n",
              "      <td>1553170209216905217</td>\n",
              "      <td>@ThiagoResiste É  LULA PRESIDENTE! https://t.c...</td>\n",
              "      <td>Lula</td>\n",
              "      <td>@thiagoresiste é  lula presidente! https://t.c...</td>\n",
              "    </tr>\n",
              "    <tr>\n",
              "      <th>2</th>\n",
              "      <td>2022-07-30 00:06:48+00:00</td>\n",
              "      <td>1553170206041804800</td>\n",
              "      <td>@PedroRonchi2 @FariaH22JB hahhahahah e pq nenh...</td>\n",
              "      <td>Lula</td>\n",
              "      <td>@pedroronchi2 @fariah22jb hahhahahah e pq nenh...</td>\n",
              "    </tr>\n",
              "    <tr>\n",
              "      <th>3</th>\n",
              "      <td>2022-07-30 00:06:48+00:00</td>\n",
              "      <td>1553170204930236417</td>\n",
              "      <td>😂😂😂😂 #RenanVagabundo\\n\\nRenan Calheiros sofre ...</td>\n",
              "      <td>Lula</td>\n",
              "      <td>😂😂😂😂 #renanvagabundo\\n\\nrenan calheiros sofre ...</td>\n",
              "    </tr>\n",
              "    <tr>\n",
              "      <th>4</th>\n",
              "      <td>2022-07-30 00:06:47+00:00</td>\n",
              "      <td>1553170202954792961</td>\n",
              "      <td>@LulaOficial @ricardostuckert Além de ladrão, ...</td>\n",
              "      <td>Lula</td>\n",
              "      <td>@lulaoficial @ricardostuckert além de ladrão, ...</td>\n",
              "    </tr>\n",
              "  </tbody>\n",
              "</table>\n",
              "</div>\n",
              "      <button class=\"colab-df-convert\" onclick=\"convertToInteractive('df-6abde13d-d977-4e2b-9b0e-e9c898aae2bd')\"\n",
              "              title=\"Convert this dataframe to an interactive table.\"\n",
              "              style=\"display:none;\">\n",
              "        \n",
              "  <svg xmlns=\"http://www.w3.org/2000/svg\" height=\"24px\"viewBox=\"0 0 24 24\"\n",
              "       width=\"24px\">\n",
              "    <path d=\"M0 0h24v24H0V0z\" fill=\"none\"/>\n",
              "    <path d=\"M18.56 5.44l.94 2.06.94-2.06 2.06-.94-2.06-.94-.94-2.06-.94 2.06-2.06.94zm-11 1L8.5 8.5l.94-2.06 2.06-.94-2.06-.94L8.5 2.5l-.94 2.06-2.06.94zm10 10l.94 2.06.94-2.06 2.06-.94-2.06-.94-.94-2.06-.94 2.06-2.06.94z\"/><path d=\"M17.41 7.96l-1.37-1.37c-.4-.4-.92-.59-1.43-.59-.52 0-1.04.2-1.43.59L10.3 9.45l-7.72 7.72c-.78.78-.78 2.05 0 2.83L4 21.41c.39.39.9.59 1.41.59.51 0 1.02-.2 1.41-.59l7.78-7.78 2.81-2.81c.8-.78.8-2.07 0-2.86zM5.41 20L4 18.59l7.72-7.72 1.47 1.35L5.41 20z\"/>\n",
              "  </svg>\n",
              "      </button>\n",
              "      \n",
              "  <style>\n",
              "    .colab-df-container {\n",
              "      display:flex;\n",
              "      flex-wrap:wrap;\n",
              "      gap: 12px;\n",
              "    }\n",
              "\n",
              "    .colab-df-convert {\n",
              "      background-color: #E8F0FE;\n",
              "      border: none;\n",
              "      border-radius: 50%;\n",
              "      cursor: pointer;\n",
              "      display: none;\n",
              "      fill: #1967D2;\n",
              "      height: 32px;\n",
              "      padding: 0 0 0 0;\n",
              "      width: 32px;\n",
              "    }\n",
              "\n",
              "    .colab-df-convert:hover {\n",
              "      background-color: #E2EBFA;\n",
              "      box-shadow: 0px 1px 2px rgba(60, 64, 67, 0.3), 0px 1px 3px 1px rgba(60, 64, 67, 0.15);\n",
              "      fill: #174EA6;\n",
              "    }\n",
              "\n",
              "    [theme=dark] .colab-df-convert {\n",
              "      background-color: #3B4455;\n",
              "      fill: #D2E3FC;\n",
              "    }\n",
              "\n",
              "    [theme=dark] .colab-df-convert:hover {\n",
              "      background-color: #434B5C;\n",
              "      box-shadow: 0px 1px 3px 1px rgba(0, 0, 0, 0.15);\n",
              "      filter: drop-shadow(0px 1px 2px rgba(0, 0, 0, 0.3));\n",
              "      fill: #FFFFFF;\n",
              "    }\n",
              "  </style>\n",
              "\n",
              "      <script>\n",
              "        const buttonEl =\n",
              "          document.querySelector('#df-6abde13d-d977-4e2b-9b0e-e9c898aae2bd button.colab-df-convert');\n",
              "        buttonEl.style.display =\n",
              "          google.colab.kernel.accessAllowed ? 'block' : 'none';\n",
              "\n",
              "        async function convertToInteractive(key) {\n",
              "          const element = document.querySelector('#df-6abde13d-d977-4e2b-9b0e-e9c898aae2bd');\n",
              "          const dataTable =\n",
              "            await google.colab.kernel.invokeFunction('convertToInteractive',\n",
              "                                                     [key], {});\n",
              "          if (!dataTable) return;\n",
              "\n",
              "          const docLinkHtml = 'Like what you see? Visit the ' +\n",
              "            '<a target=\"_blank\" href=https://colab.research.google.com/notebooks/data_table.ipynb>data table notebook</a>'\n",
              "            + ' to learn more about interactive tables.';\n",
              "          element.innerHTML = '';\n",
              "          dataTable['output_type'] = 'display_data';\n",
              "          await google.colab.output.renderOutput(dataTable, element);\n",
              "          const docLink = document.createElement('div');\n",
              "          docLink.innerHTML = docLinkHtml;\n",
              "          element.appendChild(docLink);\n",
              "        }\n",
              "      </script>\n",
              "    </div>\n",
              "  </div>\n",
              "  "
            ]
          },
          "metadata": {},
          "execution_count": 17
        }
      ]
    },
    {
      "cell_type": "code",
      "source": [
        "dataframe_final_candidatos.to_csv('dataframe_final_candidatos_pronto_para_sentimento.csv', sep = ',', index = False)"
      ],
      "metadata": {
        "id": "OzMuUv_9j6Th"
      },
      "execution_count": null,
      "outputs": []
    },
    {
      "cell_type": "code",
      "source": [
        ""
      ],
      "metadata": {
        "id": "rvtP_SaFlH68"
      },
      "execution_count": null,
      "outputs": []
    }
  ]
}