{
  "nbformat": 4,
  "nbformat_minor": 0,
  "metadata": {
    "colab": {
      "name": "Etapa 4 - Análise de Sentimentos.ipynb",
      "provenance": [],
      "authorship_tag": "ABX9TyMQgX20Hk8qLiaGUEkeVxhJ",
      "include_colab_link": true
    },
    "kernelspec": {
      "name": "python3",
      "display_name": "Python 3"
    },
    "language_info": {
      "name": "python"
    }
  },
  "cells": [
    {
      "cell_type": "markdown",
      "metadata": {
        "id": "view-in-github",
        "colab_type": "text"
      },
      "source": [
        "<a href=\"https://colab.research.google.com/github/viniciuswshibuta/DataTwitter-Eleitoral/blob/main/Etapa_4_An%C3%A1lise_de_Sentimentos.ipynb\" target=\"_parent\"><img src=\"https://colab.research.google.com/assets/colab-badge.svg\" alt=\"Open In Colab\"/></a>"
      ]
    },
    {
      "cell_type": "code",
      "source": [
        "pip install vaderSentiment"
      ],
      "metadata": {
        "colab": {
          "base_uri": "https://localhost:8080/"
        },
        "id": "Rjso0lrGMyxP",
        "outputId": "cc93513c-6915-4388-d0e2-a5a4e4ceeb87"
      },
      "execution_count": 5,
      "outputs": [
        {
          "output_type": "stream",
          "name": "stdout",
          "text": [
            "Looking in indexes: https://pypi.org/simple, https://us-python.pkg.dev/colab-wheels/public/simple/\n",
            "Collecting vaderSentiment\n",
            "  Downloading vaderSentiment-3.3.2-py2.py3-none-any.whl (125 kB)\n",
            "\u001b[K     |████████████████████████████████| 125 kB 5.4 MB/s \n",
            "\u001b[?25hRequirement already satisfied: requests in /usr/local/lib/python3.7/dist-packages (from vaderSentiment) (2.23.0)\n",
            "Requirement already satisfied: certifi>=2017.4.17 in /usr/local/lib/python3.7/dist-packages (from requests->vaderSentiment) (2022.6.15)\n",
            "Requirement already satisfied: urllib3!=1.25.0,!=1.25.1,<1.26,>=1.21.1 in /usr/local/lib/python3.7/dist-packages (from requests->vaderSentiment) (1.24.3)\n",
            "Requirement already satisfied: chardet<4,>=3.0.2 in /usr/local/lib/python3.7/dist-packages (from requests->vaderSentiment) (3.0.4)\n",
            "Requirement already satisfied: idna<3,>=2.5 in /usr/local/lib/python3.7/dist-packages (from requests->vaderSentiment) (2.10)\n",
            "Installing collected packages: vaderSentiment\n",
            "Successfully installed vaderSentiment-3.3.2\n"
          ]
        }
      ]
    },
    {
      "cell_type": "code",
      "execution_count": 15,
      "metadata": {
        "id": "xaxM7Ud65oGR"
      },
      "outputs": [],
      "source": [
        "import pandas as pd\n",
        "import re\n",
        "\n",
        "import nltk\n",
        "from nltk.sentiment.vader import SentimentIntensityAnalyzer as SIA\n",
        "from vaderSentiment.vaderSentiment import SentimentIntensityAnalyzer"
      ]
    },
    {
      "cell_type": "code",
      "source": [
        "dataframe_sentimento = pd.read_csv('dataframe_final_candidatos_pronto_para_sentimento.csv')"
      ],
      "metadata": {
        "id": "xJVK13_jlPA9"
      },
      "execution_count": 3,
      "outputs": []
    },
    {
      "cell_type": "code",
      "source": [
        "dataframe_sentimento.head()"
      ],
      "metadata": {
        "id": "V3P1rOQim0sv",
        "colab": {
          "base_uri": "https://localhost:8080/",
          "height": 250
        },
        "outputId": "6e581d3b-da5b-4411-e683-8d8641d115ce"
      },
      "execution_count": 4,
      "outputs": [
        {
          "output_type": "execute_result",
          "data": {
            "text/plain": [
              "                   Data_Hora              IdTweet  \\\n",
              "0  2022-07-30 12:55:55+00:00  1553363763205660677   \n",
              "1  2022-07-30 12:55:55+00:00  1553363762194825217   \n",
              "2  2022-07-30 12:55:55+00:00  1553363761720958979   \n",
              "3  2022-07-30 12:55:55+00:00  1553363761406296064   \n",
              "4  2022-07-30 12:55:55+00:00  1553363760068411394   \n",
              "\n",
              "                                               Tweet Candidato  \\\n",
              "0  @pedrochilingue Pleno 2022 e ainda tem reta da...      Lula   \n",
              "1  @KlemAlexandre @LulaOficial https://t.co/0n7tY...      Lula   \n",
              "2          @LulaOficial @elmanofreitaspt L A D R Ã O      Lula   \n",
              "3  Amado fazendo campanha assim pro Lula fica fác...      Lula   \n",
              "4                      @ptbrasil @LulaOficial Truco!      Lula   \n",
              "\n",
              "                                         Tweet_Limpo  \n",
              "0  @pedrochilingue pleno 2022 e ainda tem reta da...  \n",
              "1  @klemalexandre @lulaoficial https://t.co/0n7ty...  \n",
              "2          @lulaoficial @elmanofreitaspt l a d r ã o  \n",
              "3  amado fazendo campanha assim pro lula fica fác...  \n",
              "4                      @ptbrasil @lulaoficial truco!  "
            ],
            "text/html": [
              "\n",
              "  <div id=\"df-f2cde2ab-f787-4e13-9813-565e5f446fc4\">\n",
              "    <div class=\"colab-df-container\">\n",
              "      <div>\n",
              "<style scoped>\n",
              "    .dataframe tbody tr th:only-of-type {\n",
              "        vertical-align: middle;\n",
              "    }\n",
              "\n",
              "    .dataframe tbody tr th {\n",
              "        vertical-align: top;\n",
              "    }\n",
              "\n",
              "    .dataframe thead th {\n",
              "        text-align: right;\n",
              "    }\n",
              "</style>\n",
              "<table border=\"1\" class=\"dataframe\">\n",
              "  <thead>\n",
              "    <tr style=\"text-align: right;\">\n",
              "      <th></th>\n",
              "      <th>Data_Hora</th>\n",
              "      <th>IdTweet</th>\n",
              "      <th>Tweet</th>\n",
              "      <th>Candidato</th>\n",
              "      <th>Tweet_Limpo</th>\n",
              "    </tr>\n",
              "  </thead>\n",
              "  <tbody>\n",
              "    <tr>\n",
              "      <th>0</th>\n",
              "      <td>2022-07-30 12:55:55+00:00</td>\n",
              "      <td>1553363763205660677</td>\n",
              "      <td>@pedrochilingue Pleno 2022 e ainda tem reta da...</td>\n",
              "      <td>Lula</td>\n",
              "      <td>@pedrochilingue pleno 2022 e ainda tem reta da...</td>\n",
              "    </tr>\n",
              "    <tr>\n",
              "      <th>1</th>\n",
              "      <td>2022-07-30 12:55:55+00:00</td>\n",
              "      <td>1553363762194825217</td>\n",
              "      <td>@KlemAlexandre @LulaOficial https://t.co/0n7tY...</td>\n",
              "      <td>Lula</td>\n",
              "      <td>@klemalexandre @lulaoficial https://t.co/0n7ty...</td>\n",
              "    </tr>\n",
              "    <tr>\n",
              "      <th>2</th>\n",
              "      <td>2022-07-30 12:55:55+00:00</td>\n",
              "      <td>1553363761720958979</td>\n",
              "      <td>@LulaOficial @elmanofreitaspt L A D R Ã O</td>\n",
              "      <td>Lula</td>\n",
              "      <td>@lulaoficial @elmanofreitaspt l a d r ã o</td>\n",
              "    </tr>\n",
              "    <tr>\n",
              "      <th>3</th>\n",
              "      <td>2022-07-30 12:55:55+00:00</td>\n",
              "      <td>1553363761406296064</td>\n",
              "      <td>Amado fazendo campanha assim pro Lula fica fác...</td>\n",
              "      <td>Lula</td>\n",
              "      <td>amado fazendo campanha assim pro lula fica fác...</td>\n",
              "    </tr>\n",
              "    <tr>\n",
              "      <th>4</th>\n",
              "      <td>2022-07-30 12:55:55+00:00</td>\n",
              "      <td>1553363760068411394</td>\n",
              "      <td>@ptbrasil @LulaOficial Truco!</td>\n",
              "      <td>Lula</td>\n",
              "      <td>@ptbrasil @lulaoficial truco!</td>\n",
              "    </tr>\n",
              "  </tbody>\n",
              "</table>\n",
              "</div>\n",
              "      <button class=\"colab-df-convert\" onclick=\"convertToInteractive('df-f2cde2ab-f787-4e13-9813-565e5f446fc4')\"\n",
              "              title=\"Convert this dataframe to an interactive table.\"\n",
              "              style=\"display:none;\">\n",
              "        \n",
              "  <svg xmlns=\"http://www.w3.org/2000/svg\" height=\"24px\"viewBox=\"0 0 24 24\"\n",
              "       width=\"24px\">\n",
              "    <path d=\"M0 0h24v24H0V0z\" fill=\"none\"/>\n",
              "    <path d=\"M18.56 5.44l.94 2.06.94-2.06 2.06-.94-2.06-.94-.94-2.06-.94 2.06-2.06.94zm-11 1L8.5 8.5l.94-2.06 2.06-.94-2.06-.94L8.5 2.5l-.94 2.06-2.06.94zm10 10l.94 2.06.94-2.06 2.06-.94-2.06-.94-.94-2.06-.94 2.06-2.06.94z\"/><path d=\"M17.41 7.96l-1.37-1.37c-.4-.4-.92-.59-1.43-.59-.52 0-1.04.2-1.43.59L10.3 9.45l-7.72 7.72c-.78.78-.78 2.05 0 2.83L4 21.41c.39.39.9.59 1.41.59.51 0 1.02-.2 1.41-.59l7.78-7.78 2.81-2.81c.8-.78.8-2.07 0-2.86zM5.41 20L4 18.59l7.72-7.72 1.47 1.35L5.41 20z\"/>\n",
              "  </svg>\n",
              "      </button>\n",
              "      \n",
              "  <style>\n",
              "    .colab-df-container {\n",
              "      display:flex;\n",
              "      flex-wrap:wrap;\n",
              "      gap: 12px;\n",
              "    }\n",
              "\n",
              "    .colab-df-convert {\n",
              "      background-color: #E8F0FE;\n",
              "      border: none;\n",
              "      border-radius: 50%;\n",
              "      cursor: pointer;\n",
              "      display: none;\n",
              "      fill: #1967D2;\n",
              "      height: 32px;\n",
              "      padding: 0 0 0 0;\n",
              "      width: 32px;\n",
              "    }\n",
              "\n",
              "    .colab-df-convert:hover {\n",
              "      background-color: #E2EBFA;\n",
              "      box-shadow: 0px 1px 2px rgba(60, 64, 67, 0.3), 0px 1px 3px 1px rgba(60, 64, 67, 0.15);\n",
              "      fill: #174EA6;\n",
              "    }\n",
              "\n",
              "    [theme=dark] .colab-df-convert {\n",
              "      background-color: #3B4455;\n",
              "      fill: #D2E3FC;\n",
              "    }\n",
              "\n",
              "    [theme=dark] .colab-df-convert:hover {\n",
              "      background-color: #434B5C;\n",
              "      box-shadow: 0px 1px 3px 1px rgba(0, 0, 0, 0.15);\n",
              "      filter: drop-shadow(0px 1px 2px rgba(0, 0, 0, 0.3));\n",
              "      fill: #FFFFFF;\n",
              "    }\n",
              "  </style>\n",
              "\n",
              "      <script>\n",
              "        const buttonEl =\n",
              "          document.querySelector('#df-f2cde2ab-f787-4e13-9813-565e5f446fc4 button.colab-df-convert');\n",
              "        buttonEl.style.display =\n",
              "          google.colab.kernel.accessAllowed ? 'block' : 'none';\n",
              "\n",
              "        async function convertToInteractive(key) {\n",
              "          const element = document.querySelector('#df-f2cde2ab-f787-4e13-9813-565e5f446fc4');\n",
              "          const dataTable =\n",
              "            await google.colab.kernel.invokeFunction('convertToInteractive',\n",
              "                                                     [key], {});\n",
              "          if (!dataTable) return;\n",
              "\n",
              "          const docLinkHtml = 'Like what you see? Visit the ' +\n",
              "            '<a target=\"_blank\" href=https://colab.research.google.com/notebooks/data_table.ipynb>data table notebook</a>'\n",
              "            + ' to learn more about interactive tables.';\n",
              "          element.innerHTML = '';\n",
              "          dataTable['output_type'] = 'display_data';\n",
              "          await google.colab.output.renderOutput(dataTable, element);\n",
              "          const docLink = document.createElement('div');\n",
              "          docLink.innerHTML = docLinkHtml;\n",
              "          element.appendChild(docLink);\n",
              "        }\n",
              "      </script>\n",
              "    </div>\n",
              "  </div>\n",
              "  "
            ]
          },
          "metadata": {},
          "execution_count": 4
        }
      ]
    },
    {
      "cell_type": "code",
      "source": [
        "analisadores_de_sentimento = SentimentIntensityAnalyzer()"
      ],
      "metadata": {
        "id": "WZcUXCIzMqw2"
      },
      "execution_count": 9,
      "outputs": []
    },
    {
      "cell_type": "code",
      "source": [
        "dataframe_sentimento['Sentimento'] = dataframe_sentimento['Tweet_Limpo'].apply(lambda i:analisadores_de_sentimento.polarity_scores(' '.join(re.findall(r'\\w+', i.lower()))))"
      ],
      "metadata": {
        "id": "wTYRxX46US3m"
      },
      "execution_count": 16,
      "outputs": []
    },
    {
      "cell_type": "code",
      "source": [
        "dataframe_sentimento.tail()"
      ],
      "metadata": {
        "colab": {
          "base_uri": "https://localhost:8080/",
          "height": 337
        },
        "id": "wjjcGrcKaXxX",
        "outputId": "2f74a8bd-1ee9-4357-9b6c-2982ccfc5d7a"
      },
      "execution_count": 18,
      "outputs": [
        {
          "output_type": "execute_result",
          "data": {
            "text/plain": [
              "                     Data_Hora              IdTweet  \\\n",
              "148  2022-07-30 12:49:17+00:00  1553362090676690945   \n",
              "149  2022-07-30 12:49:14+00:00  1553362080840957959   \n",
              "150  2022-07-30 12:49:05+00:00  1553362043192938497   \n",
              "151  2022-07-30 12:49:04+00:00  1553362036679217153   \n",
              "152  2022-07-30 12:49:01+00:00  1553362026050772994   \n",
              "\n",
              "                                                 Tweet   Candidato  \\\n",
              "148  @cirogomes @GloboNews Sugiro seguir essa págin...  Ciro Gomes   \n",
              "149  @cirogomes O único projeto do Ciro é atacar o ...  Ciro Gomes   \n",
              "150  Luciano Bivar (União) terá pouco mais de dois ...  Ciro Gomes   \n",
              "151  @RaphaelAlves @cirogomes @GloboNews @RaphaelAl...  Ciro Gomes   \n",
              "152  @o_antagonista @cirogomes Queira vcs ou não Ci...  Ciro Gomes   \n",
              "\n",
              "                                           Tweet_Limpo  \\\n",
              "148  @cirogomes @globonews sugiro seguir essa págin...   \n",
              "149  @cirogomes o único projeto do ciro é atacar o ...   \n",
              "150  luciano bivar (união) terá pouco mais de dois ...   \n",
              "151  @raphaelalves @cirogomes @globonews @raphaelal...   \n",
              "152  @o_antagonista @cirogomes queira vcs ou não ci...   \n",
              "\n",
              "                                            Sentimento  \n",
              "148  {'neg': 0.0, 'neu': 1.0, 'pos': 0.0, 'compound...  \n",
              "149  {'neg': 0.121, 'neu': 0.879, 'pos': 0.0, 'comp...  \n",
              "150  {'neg': 0.0, 'neu': 1.0, 'pos': 0.0, 'compound...  \n",
              "151  {'neg': 0.0, 'neu': 1.0, 'pos': 0.0, 'compound...  \n",
              "152  {'neg': 0.0, 'neu': 1.0, 'pos': 0.0, 'compound...  "
            ],
            "text/html": [
              "\n",
              "  <div id=\"df-e975b270-9339-42c2-ab2b-f0c287aab1da\">\n",
              "    <div class=\"colab-df-container\">\n",
              "      <div>\n",
              "<style scoped>\n",
              "    .dataframe tbody tr th:only-of-type {\n",
              "        vertical-align: middle;\n",
              "    }\n",
              "\n",
              "    .dataframe tbody tr th {\n",
              "        vertical-align: top;\n",
              "    }\n",
              "\n",
              "    .dataframe thead th {\n",
              "        text-align: right;\n",
              "    }\n",
              "</style>\n",
              "<table border=\"1\" class=\"dataframe\">\n",
              "  <thead>\n",
              "    <tr style=\"text-align: right;\">\n",
              "      <th></th>\n",
              "      <th>Data_Hora</th>\n",
              "      <th>IdTweet</th>\n",
              "      <th>Tweet</th>\n",
              "      <th>Candidato</th>\n",
              "      <th>Tweet_Limpo</th>\n",
              "      <th>Sentimento</th>\n",
              "    </tr>\n",
              "  </thead>\n",
              "  <tbody>\n",
              "    <tr>\n",
              "      <th>148</th>\n",
              "      <td>2022-07-30 12:49:17+00:00</td>\n",
              "      <td>1553362090676690945</td>\n",
              "      <td>@cirogomes @GloboNews Sugiro seguir essa págin...</td>\n",
              "      <td>Ciro Gomes</td>\n",
              "      <td>@cirogomes @globonews sugiro seguir essa págin...</td>\n",
              "      <td>{'neg': 0.0, 'neu': 1.0, 'pos': 0.0, 'compound...</td>\n",
              "    </tr>\n",
              "    <tr>\n",
              "      <th>149</th>\n",
              "      <td>2022-07-30 12:49:14+00:00</td>\n",
              "      <td>1553362080840957959</td>\n",
              "      <td>@cirogomes O único projeto do Ciro é atacar o ...</td>\n",
              "      <td>Ciro Gomes</td>\n",
              "      <td>@cirogomes o único projeto do ciro é atacar o ...</td>\n",
              "      <td>{'neg': 0.121, 'neu': 0.879, 'pos': 0.0, 'comp...</td>\n",
              "    </tr>\n",
              "    <tr>\n",
              "      <th>150</th>\n",
              "      <td>2022-07-30 12:49:05+00:00</td>\n",
              "      <td>1553362043192938497</td>\n",
              "      <td>Luciano Bivar (União) terá pouco mais de dois ...</td>\n",
              "      <td>Ciro Gomes</td>\n",
              "      <td>luciano bivar (união) terá pouco mais de dois ...</td>\n",
              "      <td>{'neg': 0.0, 'neu': 1.0, 'pos': 0.0, 'compound...</td>\n",
              "    </tr>\n",
              "    <tr>\n",
              "      <th>151</th>\n",
              "      <td>2022-07-30 12:49:04+00:00</td>\n",
              "      <td>1553362036679217153</td>\n",
              "      <td>@RaphaelAlves @cirogomes @GloboNews @RaphaelAl...</td>\n",
              "      <td>Ciro Gomes</td>\n",
              "      <td>@raphaelalves @cirogomes @globonews @raphaelal...</td>\n",
              "      <td>{'neg': 0.0, 'neu': 1.0, 'pos': 0.0, 'compound...</td>\n",
              "    </tr>\n",
              "    <tr>\n",
              "      <th>152</th>\n",
              "      <td>2022-07-30 12:49:01+00:00</td>\n",
              "      <td>1553362026050772994</td>\n",
              "      <td>@o_antagonista @cirogomes Queira vcs ou não Ci...</td>\n",
              "      <td>Ciro Gomes</td>\n",
              "      <td>@o_antagonista @cirogomes queira vcs ou não ci...</td>\n",
              "      <td>{'neg': 0.0, 'neu': 1.0, 'pos': 0.0, 'compound...</td>\n",
              "    </tr>\n",
              "  </tbody>\n",
              "</table>\n",
              "</div>\n",
              "      <button class=\"colab-df-convert\" onclick=\"convertToInteractive('df-e975b270-9339-42c2-ab2b-f0c287aab1da')\"\n",
              "              title=\"Convert this dataframe to an interactive table.\"\n",
              "              style=\"display:none;\">\n",
              "        \n",
              "  <svg xmlns=\"http://www.w3.org/2000/svg\" height=\"24px\"viewBox=\"0 0 24 24\"\n",
              "       width=\"24px\">\n",
              "    <path d=\"M0 0h24v24H0V0z\" fill=\"none\"/>\n",
              "    <path d=\"M18.56 5.44l.94 2.06.94-2.06 2.06-.94-2.06-.94-.94-2.06-.94 2.06-2.06.94zm-11 1L8.5 8.5l.94-2.06 2.06-.94-2.06-.94L8.5 2.5l-.94 2.06-2.06.94zm10 10l.94 2.06.94-2.06 2.06-.94-2.06-.94-.94-2.06-.94 2.06-2.06.94z\"/><path d=\"M17.41 7.96l-1.37-1.37c-.4-.4-.92-.59-1.43-.59-.52 0-1.04.2-1.43.59L10.3 9.45l-7.72 7.72c-.78.78-.78 2.05 0 2.83L4 21.41c.39.39.9.59 1.41.59.51 0 1.02-.2 1.41-.59l7.78-7.78 2.81-2.81c.8-.78.8-2.07 0-2.86zM5.41 20L4 18.59l7.72-7.72 1.47 1.35L5.41 20z\"/>\n",
              "  </svg>\n",
              "      </button>\n",
              "      \n",
              "  <style>\n",
              "    .colab-df-container {\n",
              "      display:flex;\n",
              "      flex-wrap:wrap;\n",
              "      gap: 12px;\n",
              "    }\n",
              "\n",
              "    .colab-df-convert {\n",
              "      background-color: #E8F0FE;\n",
              "      border: none;\n",
              "      border-radius: 50%;\n",
              "      cursor: pointer;\n",
              "      display: none;\n",
              "      fill: #1967D2;\n",
              "      height: 32px;\n",
              "      padding: 0 0 0 0;\n",
              "      width: 32px;\n",
              "    }\n",
              "\n",
              "    .colab-df-convert:hover {\n",
              "      background-color: #E2EBFA;\n",
              "      box-shadow: 0px 1px 2px rgba(60, 64, 67, 0.3), 0px 1px 3px 1px rgba(60, 64, 67, 0.15);\n",
              "      fill: #174EA6;\n",
              "    }\n",
              "\n",
              "    [theme=dark] .colab-df-convert {\n",
              "      background-color: #3B4455;\n",
              "      fill: #D2E3FC;\n",
              "    }\n",
              "\n",
              "    [theme=dark] .colab-df-convert:hover {\n",
              "      background-color: #434B5C;\n",
              "      box-shadow: 0px 1px 3px 1px rgba(0, 0, 0, 0.15);\n",
              "      filter: drop-shadow(0px 1px 2px rgba(0, 0, 0, 0.3));\n",
              "      fill: #FFFFFF;\n",
              "    }\n",
              "  </style>\n",
              "\n",
              "      <script>\n",
              "        const buttonEl =\n",
              "          document.querySelector('#df-e975b270-9339-42c2-ab2b-f0c287aab1da button.colab-df-convert');\n",
              "        buttonEl.style.display =\n",
              "          google.colab.kernel.accessAllowed ? 'block' : 'none';\n",
              "\n",
              "        async function convertToInteractive(key) {\n",
              "          const element = document.querySelector('#df-e975b270-9339-42c2-ab2b-f0c287aab1da');\n",
              "          const dataTable =\n",
              "            await google.colab.kernel.invokeFunction('convertToInteractive',\n",
              "                                                     [key], {});\n",
              "          if (!dataTable) return;\n",
              "\n",
              "          const docLinkHtml = 'Like what you see? Visit the ' +\n",
              "            '<a target=\"_blank\" href=https://colab.research.google.com/notebooks/data_table.ipynb>data table notebook</a>'\n",
              "            + ' to learn more about interactive tables.';\n",
              "          element.innerHTML = '';\n",
              "          dataTable['output_type'] = 'display_data';\n",
              "          await google.colab.output.renderOutput(dataTable, element);\n",
              "          const docLink = document.createElement('div');\n",
              "          docLink.innerHTML = docLinkHtml;\n",
              "          element.appendChild(docLink);\n",
              "        }\n",
              "      </script>\n",
              "    </div>\n",
              "  </div>\n",
              "  "
            ]
          },
          "metadata": {},
          "execution_count": 18
        }
      ]
    },
    {
      "cell_type": "code",
      "source": [
        "dataframe_sentimento['Sentimento']"
      ],
      "metadata": {
        "colab": {
          "base_uri": "https://localhost:8080/"
        },
        "id": "OmayPW9DcU5y",
        "outputId": "7e9305a2-c663-469f-d9c4-35da5c4fe6cc"
      },
      "execution_count": 24,
      "outputs": [
        {
          "output_type": "execute_result",
          "data": {
            "text/plain": [
              "0      {'neg': 0.253, 'neu': 0.747, 'pos': 0.0, 'comp...\n",
              "1      {'neg': 0.0, 'neu': 1.0, 'pos': 0.0, 'compound...\n",
              "2      {'neg': 0.0, 'neu': 0.7, 'pos': 0.3, 'compound...\n",
              "3      {'neg': 0.0, 'neu': 1.0, 'pos': 0.0, 'compound...\n",
              "4      {'neg': 0.0, 'neu': 1.0, 'pos': 0.0, 'compound...\n",
              "                             ...                        \n",
              "148    {'neg': 0.0, 'neu': 1.0, 'pos': 0.0, 'compound...\n",
              "149    {'neg': 0.121, 'neu': 0.879, 'pos': 0.0, 'comp...\n",
              "150    {'neg': 0.0, 'neu': 1.0, 'pos': 0.0, 'compound...\n",
              "151    {'neg': 0.0, 'neu': 1.0, 'pos': 0.0, 'compound...\n",
              "152    {'neg': 0.0, 'neu': 1.0, 'pos': 0.0, 'compound...\n",
              "Name: Sentimento, Length: 153, dtype: object"
            ]
          },
          "metadata": {},
          "execution_count": 24
        }
      ]
    },
    {
      "cell_type": "code",
      "source": [
        ""
      ],
      "metadata": {
        "id": "db5uKeuIdtVH"
      },
      "execution_count": null,
      "outputs": []
    }
  ]
}